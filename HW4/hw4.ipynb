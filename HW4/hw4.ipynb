{
 "cells": [
  {
   "cell_type": "markdown",
   "metadata": {},
   "source": [
    "### Lab2 (a) Model preperation"
   ]
  },
  {
   "cell_type": "code",
   "execution_count": 1,
   "metadata": {
    "pycharm": {
     "is_executing": false
    }
   },
   "outputs": [],
   "source": [
    "from resnet20 import ResNetCIFAR\n",
    "from train_util import train, finetune, test\n",
    "import torch\n",
    "import numpy as np\n",
    "\n",
    "import time\n",
    "\n",
    "import torchvision.transforms as transforms\n",
    "import torchvision\n",
    "import torch.nn as nn\n",
    "import torch.optim as optim\n",
    "\n",
    "from FP_layers import *\n",
    "\n",
    "device = 'cuda' if torch.cuda.is_available() else 'cpu'"
   ]
  },
  {
   "cell_type": "code",
   "execution_count": 2,
   "metadata": {
    "pycharm": {
     "is_executing": false,
     "name": "#%%\n"
    }
   },
   "outputs": [],
   "source": [
    "net = ResNetCIFAR(num_layers=20, Nbits=None)\n",
    "net = net.to(device)"
   ]
  },
  {
   "cell_type": "code",
   "execution_count": 3,
   "metadata": {},
   "outputs": [
    {
     "name": "stderr",
     "output_type": "stream",
     "text": [
      "C:\\Users\\kojil\\AppData\\Local\\Temp\\ipykernel_27508\\3205097103.py:2: FutureWarning: You are using `torch.load` with `weights_only=False` (the current default value), which uses the default pickle module implicitly. It is possible to construct malicious pickle data which will execute arbitrary code during unpickling (See https://github.com/pytorch/pytorch/blob/main/SECURITY.md#untrusted-models for more details). In a future release, the default value for `weights_only` will be flipped to `True`. This limits the functions that could be executed during unpickling. Arbitrary objects will no longer be allowed to be loaded via this mode unless they are explicitly allowlisted by the user via `torch.serialization.add_safe_globals`. We recommend you start setting `weights_only=True` for any use case where you don't have full control of the loaded file. Please open an issue on GitHub for any issues related to this experimental feature.\n",
      "  net.load_state_dict(torch.load(\"pretrained_model.pt\"))\n"
     ]
    },
    {
     "name": "stdout",
     "output_type": "stream",
     "text": [
      "Downloading https://www.cs.toronto.edu/~kriz/cifar-10-python.tar.gz to ./data\\cifar-10-python.tar.gz\n"
     ]
    },
    {
     "name": "stderr",
     "output_type": "stream",
     "text": [
      "100%|██████████| 170M/170M [00:06<00:00, 26.6MB/s] \n"
     ]
    },
    {
     "name": "stdout",
     "output_type": "stream",
     "text": [
      "Extracting ./data\\cifar-10-python.tar.gz to ./data\n",
      "Test Loss=0.3231, Test accuracy=0.9150\n"
     ]
    }
   ],
   "source": [
    "# Load the best weight paramters\n",
    "net.load_state_dict(torch.load(\"pretrained_model.pt\"))\n",
    "test(net)"
   ]
  },
  {
   "cell_type": "markdown",
   "metadata": {},
   "source": [
    "### Lab2 (b) Prune by percentage"
   ]
  },
  {
   "cell_type": "code",
   "execution_count": null,
   "metadata": {},
   "outputs": [],
   "source": [
    "def prune_by_percentage(layer, q=70.0):\n",
    "    \"\"\"\n",
    "    Pruning the weight paramters by threshold.\n",
    "    :param q: pruning percentile. 'q' percent of the least \n",
    "    significant weight parameters will be pruned.\n",
    "    \"\"\"\n",
    "    # Convert the weight of \"layer\" to numpy array\n",
    "    layer_weight = layer.weight.data.cuda().numpy()\n",
    "    # Compute the q-th percentile of the abs of the converted array\n",
    "    threshold = np.percentile(np.abs(layer_weight), q)\n",
    "    print(threshold)\n",
    "    # Generate a binary mask same shape as weight to decide which element to prune\n",
    "    bi_mask = np.abs(layer_weight) > threshold\n",
    "    # Convert mask to torch tensor and put on GPU\n",
    "    bi_mask = torch.tensor(bi_mask).cuda()\n",
    "    # Multiply the weight by mask to perform pruning\n",
    "    layer.weight.data = layer.weight.data * bi_mask\n",
    "    "
   ]
  },
  {
   "cell_type": "code",
   "execution_count": null,
   "metadata": {},
   "outputs": [],
   "source": [
    "net.load_state_dict(torch.load(\"pretrained_model.pt\"))\n",
    "\n",
    "for name,layer in net.named_modules():\n",
    "    if (isinstance(layer, nn.Conv2d) or isinstance(layer, nn.Linear)) and 'id_mapping' not in name:\n",
    "        # change q value\n",
    "        prune_by_percentage(layer, q=70.0)\n",
    "        \n",
    "        # Optional: Check the sparsity you achieve in each layer\n",
    "        # Convert the weight of \"layer\" to numpy array\n",
    "        np_weight = layer.weight.data.cuda().numpy()\n",
    "        # Count number of zeros\n",
    "        zeros = np.sum(np_weight == 0)\n",
    "        # Count number of parameters\n",
    "        total = np.prod(np_weight.shape)\n",
    "        # Print sparsity\n",
    "        print('Sparsity of '+name+': '+str(zeros/total))\n",
    "        \n",
    "test(net)"
   ]
  },
  {
   "cell_type": "markdown",
   "metadata": {},
   "source": [
    "### Lab2 (c) Finetune pruned model"
   ]
  },
  {
   "cell_type": "code",
   "execution_count": null,
   "metadata": {},
   "outputs": [],
   "source": [
    "def finetune_after_prune(net, trainloader, criterion, optimizer, prune=True):\n",
    "    \"\"\"\n",
    "    Finetune the pruned model for a single epoch\n",
    "    Make sure pruned weights are kept as zero\n",
    "    \"\"\"\n",
    "    # Build a dictionary for the nonzero weights\n",
    "    weight_mask = {}\n",
    "    for name,layer in net.named_modules():\n",
    "        if (isinstance(layer, nn.Conv2d) or isinstance(layer, nn.Linear)) and 'id_mapping' not in name:\n",
    "            # Your code here: generate a mask in GPU torch tensor to have 1 for nonzero element and 0 for zero element \n",
    "            weight_mask[name] = 1 - (layer.weight.data == 0).float()\n",
    "    \n",
    "    global_steps = 0\n",
    "    train_loss = 0\n",
    "    correct = 0\n",
    "    total = 0\n",
    "    start = time.time()\n",
    "    for batch_idx, (inputs, targets) in enumerate(trainloader):\n",
    "        inputs, targets = inputs.to(device), targets.to(device)\n",
    "        optimizer.zero_grad()\n",
    "        outputs = net(inputs)\n",
    "        loss = criterion(outputs, targets)\n",
    "        loss.backward()\n",
    "        optimizer.step()\n",
    "        \n",
    "        if prune:\n",
    "            for name,layer in net.named_modules():\n",
    "                if (isinstance(layer, nn.Conv2d) or isinstance(layer, nn.Linear)) and 'id_mapping' not in name:\n",
    "                    # Your code here: Use weight_mask to make sure zero elements remains zero\n",
    "                    layer.weight.data = layer.weight.data * weight_mask[name]\n",
    "        \n",
    "        train_loss += loss.item()\n",
    "        _, predicted = outputs.max(1)\n",
    "        total += targets.size(0)\n",
    "        correct += predicted.eq(targets).sum().item()\n",
    "        global_steps += 1\n",
    "\n",
    "        if global_steps % 50 == 0:\n",
    "            end = time.time()\n",
    "            batch_size = 256\n",
    "            num_examples_per_second = 50 * batch_size / (end - start)\n",
    "            print(\"[Step=%d]\\tLoss=%.4f\\tacc=%.4f\\t%.1f examples/second\"\n",
    "                 % (global_steps, train_loss / (batch_idx + 1), (correct / total), num_examples_per_second))\n",
    "            start = time.time()\n",
    "    \n",
    "    "
   ]
  },
  {
   "cell_type": "code",
   "execution_count": null,
   "metadata": {},
   "outputs": [],
   "source": [
    "# Get pruned model\n",
    "net.load_state_dict(torch.load(\"pretrained_model.pt\"))\n",
    "for name,layer in net.named_modules():\n",
    "    if (isinstance(layer, nn.Conv2d) or isinstance(layer, nn.Linear)) and 'id_mapping' not in name:\n",
    "        prune_by_percentage(layer, q=80.0)\n",
    "\n",
    "# Training setup, do not change\n",
    "batch_size=256\n",
    "lr=0.002\n",
    "reg=1e-4\n",
    "\n",
    "print('==> Preparing data..')\n",
    "transform_train = transforms.Compose([\n",
    "    transforms.RandomCrop(32, padding=4),\n",
    "    transforms.RandomHorizontalFlip(),\n",
    "    transforms.ToTensor(),\n",
    "    transforms.Normalize((0.4914, 0.4822, 0.4465), (0.2023, 0.1994, 0.2010)),\n",
    "])\n",
    "\n",
    "transform_test = transforms.Compose([\n",
    "    transforms.ToTensor(),\n",
    "    transforms.Normalize((0.4914, 0.4822, 0.4465), (0.2023, 0.1994, 0.2010)),\n",
    "])\n",
    "best_acc = 0  # best test accuracy\n",
    "start_epoch = 0  # start from epoch 0 or last checkpoint epoch\n",
    "trainset = torchvision.datasets.CIFAR10(root='./data', train=True, download=True, transform=transform_train)\n",
    "trainloader = torch.utils.data.DataLoader(trainset, batch_size=batch_size, shuffle=True, num_workers=16)\n",
    "\n",
    "testset = torchvision.datasets.CIFAR10(root='./data', train=False, download=True, transform=transform_test)\n",
    "testloader = torch.utils.data.DataLoader(testset, batch_size=100, shuffle=False, num_workers=2)\n",
    "\n",
    "criterion = nn.CrossEntropyLoss()\n",
    "optimizer = optim.SGD(net.parameters(), lr=lr, momentum=0.875, weight_decay=reg, nesterov=False)"
   ]
  },
  {
   "cell_type": "code",
   "execution_count": null,
   "metadata": {},
   "outputs": [],
   "source": [
    "# Model finetuning\n",
    "for epoch in range(20):\n",
    "    print('\\nEpoch: %d' % epoch)\n",
    "    net.train()\n",
    "    finetune_after_prune(net, trainloader, criterion, optimizer)\n",
    "    #Start the testing code.\n",
    "    net.eval()\n",
    "    test_loss = 0\n",
    "    correct = 0\n",
    "    total = 0\n",
    "    with torch.no_grad():\n",
    "        for batch_idx, (inputs, targets) in enumerate(testloader):\n",
    "            inputs, targets = inputs.to(device), targets.to(device)\n",
    "            outputs = net(inputs)\n",
    "            loss = criterion(outputs, targets)\n",
    "\n",
    "            test_loss += loss.item()\n",
    "            _, predicted = outputs.max(1)\n",
    "            total += targets.size(0)\n",
    "            correct += predicted.eq(targets).sum().item()\n",
    "    num_val_steps = len(testloader)\n",
    "    val_acc = correct / total\n",
    "    print(\"Test Loss=%.4f, Test acc=%.4f\" % (test_loss / (num_val_steps), val_acc))\n",
    "\n",
    "    if val_acc > best_acc:\n",
    "        best_acc = val_acc\n",
    "        print(\"Saving...\")\n",
    "        torch.save(net.state_dict(), \"net_after_finetune.pt\")"
   ]
  },
  {
   "cell_type": "code",
   "execution_count": null,
   "metadata": {},
   "outputs": [],
   "source": [
    "# Check sparsity of the finetuned model, make sure it's not changed\n",
    "net.load_state_dict(torch.load(\"net_after_finetune.pt\"))\n",
    "\n",
    "for name,layer in net.named_modules():\n",
    "    if (isinstance(layer, nn.Conv2d) or isinstance(layer, nn.Linear)) and 'id_mapping' not in name:\n",
    "        # Your code here:\n",
    "        # Convert the weight of \"layer\" to numpy array\n",
    "        np_weight = layer.weight.data.cuda().numpy()\n",
    "        # Count number of zeros\n",
    "        zeros = np.sum(np_weight == 0)\n",
    "        # Count number of parameters\n",
    "        total = np.prod(np_weight.shape)\n",
    "        # Print sparsity\n",
    "        print('Sparsity of '+name+': '+str(zeros/total))\n",
    "        \n",
    "test(net)"
   ]
  },
  {
   "cell_type": "markdown",
   "metadata": {},
   "source": [
    "### Lab2 (d) Iterative pruning"
   ]
  },
  {
   "cell_type": "code",
   "execution_count": null,
   "metadata": {},
   "outputs": [],
   "source": [
    "net.load_state_dict(torch.load(\"pretrained_model.pt\"))\n",
    "best_acc = 0.\n",
    "for epoch in range(20):\n",
    "    print('\\nEpoch: %d' % epoch)\n",
    "    \n",
    "    net.train()\n",
    "    if epoch<10:\n",
    "        for name,layer in net.named_modules():\n",
    "            if (isinstance(layer, nn.Conv2d) or isinstance(layer, nn.Linear)) and 'id_mapping' not in name:\n",
    "                # Increase model sparsity\n",
    "                q = ...\n",
    "                prune_by_percentage(layer, q=q)\n",
    "    if epoch<9:\n",
    "        finetune_after_prune(net, trainloader, criterion, optimizer,prune=False)\n",
    "    else:\n",
    "        finetune_after_prune(net, trainloader, criterion, optimizer)\n",
    "    \n",
    "    #Start the testing code.\n",
    "    net.eval()\n",
    "    test_loss = 0\n",
    "    correct = 0\n",
    "    total = 0\n",
    "    with torch.no_grad():\n",
    "        for batch_idx, (inputs, targets) in enumerate(testloader):\n",
    "            inputs, targets = inputs.to(device), targets.to(device)\n",
    "            outputs = net(inputs)\n",
    "            loss = criterion(outputs, targets)\n",
    "\n",
    "            test_loss += loss.item()\n",
    "            _, predicted = outputs.max(1)\n",
    "            total += targets.size(0)\n",
    "            correct += predicted.eq(targets).sum().item()\n",
    "    num_val_steps = len(testloader)\n",
    "    val_acc = correct / total\n",
    "    print(\"Test Loss=%.4f, Test acc=%.4f\" % (test_loss / (num_val_steps), val_acc))\n",
    "    \n",
    "    if epoch>=10:\n",
    "        if val_acc > best_acc:\n",
    "            best_acc = val_acc\n",
    "            print(\"Saving...\")\n",
    "            torch.save(net.state_dict(), \"net_after_iterative_prune.pt\")"
   ]
  },
  {
   "cell_type": "code",
   "execution_count": null,
   "metadata": {},
   "outputs": [],
   "source": [
    "# Check sparsity of the final model, make sure it's 80%\n",
    "net.load_state_dict(torch.load(\"net_after_iterative_prune.pt\"))\n",
    "\n",
    "for name,layer in net.named_modules():\n",
    "    if (isinstance(layer, nn.Conv2d) or isinstance(layer, nn.Linear)) and 'id_mapping' not in name:\n",
    "        np_weight = layer.weight.data.cuda().numpy()\n",
    "        # Count number of zeros\n",
    "        zeros = np.sum(np_weight == 0)\n",
    "        # Count number of parameters\n",
    "        total = np.prod(np_weight.shape)\n",
    "        # Print sparsity\n",
    "        print('Sparsity of '+name+': '+str(zeros/total))\n",
    "        \n",
    "test(net)"
   ]
  },
  {
   "cell_type": "markdown",
   "metadata": {},
   "source": [
    "### Lab2 (e) Global iterative pruning"
   ]
  },
  {
   "cell_type": "code",
   "execution_count": null,
   "metadata": {},
   "outputs": [],
   "source": [
    "def global_prune_by_percentage(net, q=70.0):\n",
    "    \"\"\"\n",
    "    Pruning the weight paramters by threshold.\n",
    "    :param q: pruning percentile. 'q' percent of the least \n",
    "    significant weight parameters will be pruned.\n",
    "    \"\"\"\n",
    "    # A list to gather all the weights\n",
    "    flattened_weights = []\n",
    "    # Find global pruning threshold\n",
    "    for name,layer in net.named_modules():\n",
    "        if (isinstance(layer, nn.Conv2d) or isinstance(layer, nn.Linear)) and 'id_mapping' not in name:\n",
    "            # Convert weight to numpy\n",
    "            layer_weight = layer.weight.data.cuda().numpy()\n",
    "            # Flatten the weight and append to flattened_weights\n",
    "            flattened_weights.append(layer_weight.flatten())\n",
    "    # Concate all weights into a np array\n",
    "    flattened_weights = np.concatenate(flattened_weights)\n",
    "    # Find global pruning threshold\n",
    "    thres = np.percentile(np.abs(flattened_weights), q)\n",
    "    print(\"Global pruning threshold (q=%d): %.4f\" % (q, thres))\n",
    "    \n",
    "    # Apply pruning threshold to all layers\n",
    "    for name,layer in net.named_modules():\n",
    "        if (isinstance(layer, nn.Conv2d) or isinstance(layer, nn.Linear)) and 'id_mapping' not in name:\n",
    "            # Convert weight to numpy\n",
    "            layer_weight = layer.weight.data.cuda().numpy()\n",
    "            # Generate a binary mask same shape as weight to decide which element to prune\n",
    "            bi_mask = np.abs(layer_weight) > thres\n",
    "            # Convert mask to torch tensor and put on GPU\n",
    "            bi_mask = torch.tensor(bi_mask).cuda()\n",
    "            # Multiply the weight by mask to perform pruning\n",
    "            layer.weight.data = layer.weight.data * bi_mask"
   ]
  },
  {
   "cell_type": "code",
   "execution_count": null,
   "metadata": {},
   "outputs": [],
   "source": [
    "net.load_state_dict(torch.load(\"pretrained_model.pt\"))\n",
    "best_acc = 0.\n",
    "for epoch in range(20):\n",
    "    print('\\nEpoch: %d' % epoch)\n",
    "    \n",
    "    net.train()\n",
    "    if epoch<10:\n",
    "        # Increase model sparsity\n",
    "        q = 70.0\n",
    "        global_prune_by_percentage(net, q=q)\n",
    "    if epoch<9:\n",
    "        finetune_after_prune(net, trainloader, criterion, optimizer,prune=False)\n",
    "    else:\n",
    "        finetune_after_prune(net, trainloader, criterion, optimizer)\n",
    "    \n",
    "    #Start the testing code.\n",
    "    net.eval()\n",
    "    test_loss = 0\n",
    "    correct = 0\n",
    "    total = 0\n",
    "    with torch.no_grad():\n",
    "        for batch_idx, (inputs, targets) in enumerate(testloader):\n",
    "            inputs, targets = inputs.to(device), targets.to(device)\n",
    "            outputs = net(inputs)\n",
    "            loss = criterion(outputs, targets)\n",
    "\n",
    "            test_loss += loss.item()\n",
    "            _, predicted = outputs.max(1)\n",
    "            total += targets.size(0)\n",
    "            correct += predicted.eq(targets).sum().item()\n",
    "    num_val_steps = len(testloader)\n",
    "    val_acc = correct / total\n",
    "    print(\"Test Loss=%.4f, Test acc=%.4f\" % (test_loss / (num_val_steps), val_acc))\n",
    "    \n",
    "    if epoch>=10:\n",
    "        if val_acc > best_acc:\n",
    "            best_acc = val_acc\n",
    "            print(\"Saving...\")\n",
    "            torch.save(net.state_dict(), \"net_after_global_iterative_prune.pt\")"
   ]
  },
  {
   "cell_type": "code",
   "execution_count": null,
   "metadata": {},
   "outputs": [],
   "source": [
    "net.load_state_dict(torch.load(\"net_after_global_iterative_prune.pt\"))\n",
    "\n",
    "zeros_sum = 0\n",
    "total_sum = 0\n",
    "for name,layer in net.named_modules():\n",
    "    if (isinstance(layer, nn.Conv2d) or isinstance(layer, nn.Linear)) and 'id_mapping' not in name:\n",
    "        # Your code here:\n",
    "        # Convert the weight of \"layer\" to numpy array\n",
    "        np_weight = layer.weight.data.cuda().numpy()\n",
    "        # Count number of zeros\n",
    "        zeros = np.sum(np_weight == 0)\n",
    "        # Count number of parameters\n",
    "        total = np.prod(np_weight.shape)\n",
    "        zeros_sum+=zeros\n",
    "        total_sum+=total\n",
    "        print('Sparsity of '+name+': '+str(zeros/total))\n",
    "print('Total sparsity of: '+str(zeros_sum/total_sum))\n",
    "test(net)"
   ]
  },
  {
   "cell_type": "markdown",
   "metadata": {},
   "source": [
    "### Lab 3 (b) and (c): Fixed-point quantization"
   ]
  },
  {
   "cell_type": "code",
   "execution_count": null,
   "metadata": {},
   "outputs": [],
   "source": [
    "# Define quantized model and load weight\n",
    "Nbits = 4 #Change this value to finish (b) and (c)\n",
    "\n",
    "net = ResNetCIFAR(num_layers=20, Nbits=Nbits)\n",
    "net = net.to(device)\n",
    "net.load_state_dict(torch.load(\"pretrained_model.pt\"))\n",
    "test(net)\n"
   ]
  },
  {
   "cell_type": "code",
   "execution_count": null,
   "metadata": {},
   "outputs": [],
   "source": [
    "# Quantized model finetuning\n",
    "finetune(net, epochs=20, batch_size=256, lr=0.002, reg=1e-4)   \n",
    "\n",
    "# Load the model with best accuracy\n",
    "net.load_state_dict(torch.load(\"quantized_net_after_finetune.pt\"))\n",
    "test(net)"
   ]
  },
  {
   "cell_type": "markdown",
   "metadata": {},
   "source": [
    "### Lab3 (d) Quantize pruned model"
   ]
  },
  {
   "cell_type": "code",
   "execution_count": null,
   "metadata": {},
   "outputs": [],
   "source": [
    "# Define quantized model and load weight\n",
    "Nbits = 3 #Change this value to finish (d)\n",
    "\n",
    "net = ResNetCIFAR(num_layers=20, Nbits=Nbits)\n",
    "net = net.to(device)\n",
    "net.load_state_dict(torch.load(\"net_after_global_iterative_prune.pt\"))\n",
    "test(net)\n"
   ]
  },
  {
   "cell_type": "code",
   "execution_count": null,
   "metadata": {},
   "outputs": [],
   "source": [
    "# Quantized model finetuning\n",
    "finetune(net, epochs=20, batch_size=256, lr=0.002, reg=1e-4)\n",
    "\n",
    "# Load the model with best accuracy\n",
    "net.load_state_dict(torch.load(\"quantized_net_after_finetune.pt\"))\n",
    "test(net)"
   ]
  },
  {
   "cell_type": "markdown",
   "metadata": {},
   "source": [
    "### Lab4 (a) Symmetric quantization\n",
    "#### Implement symmetric quantization in FP_layers.py, and repeat the process in (b)"
   ]
  },
  {
   "cell_type": "code",
   "execution_count": null,
   "metadata": {},
   "outputs": [],
   "source": [
    "# check the performance of symmetric quantization with 6, 5, 4, 3, 2 bits"
   ]
  }
 ],
 "metadata": {
  "kernelspec": {
   "display_name": "pytorch_env",
   "language": "python",
   "name": "python3"
  },
  "language_info": {
   "codemirror_mode": {
    "name": "ipython",
    "version": 3
   },
   "file_extension": ".py",
   "mimetype": "text/x-python",
   "name": "python",
   "nbconvert_exporter": "python",
   "pygments_lexer": "ipython3",
   "version": "3.9.19"
  },
  "pycharm": {
   "stem_cell": {
    "cell_type": "raw",
    "metadata": {
     "collapsed": false
    },
    "source": []
   }
  }
 },
 "nbformat": 4,
 "nbformat_minor": 4
}
