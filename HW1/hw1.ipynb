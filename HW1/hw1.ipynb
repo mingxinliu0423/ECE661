{
 "cells": [
  {
   "cell_type": "markdown",
   "metadata": {},
   "source": [
    "# 1. T/F questions (10 pts)"
   ]
  },
  {
   "cell_type": "markdown",
   "metadata": {},
   "source": [
    "## Problem 1.1 (2 pts) \n",
    "\n",
    "On image recognition tasks, the convolution layers, compared to fully-connected layers, usually lead to better performance by exploiting shift invariant image features and typically have fewer parameters.\n",
    "\n",
    "**True**. The two advantages of convolution layers are shift invariant image features and less hyperparameters. This allows the model to better capture essential information with shared filters at each layer."
   ]
  },
  {
   "cell_type": "markdown",
   "metadata": {},
   "source": [
    "## Problem 1.2 (2 pts) \n",
    "\n",
    "According to the “convolution shape rule,” for a convolution operation with a fixed input feature map, increasing the height and width of kernel size can not lead to the output feature maps in the same size.\n",
    "\n",
    "**False**. According to the formula (N-F+2P)/S + 1, where the F is the kernal size, the dimension of kernel does change the output dimension."
   ]
  },
  {
   "cell_type": "markdown",
   "metadata": {},
   "source": [
    "## Problem 1.3 (2 pts)\n",
    "\n",
    "Given a learning task that can be perfectly learned by a Madaline model, this model is suitable for different weight initialization.\n",
    "\n",
    "**False**. The initialization of this model is important to the Madaline model."
   ]
  },
  {
   "cell_type": "markdown",
   "metadata": {},
   "source": [
    "## Problem 1.4 (2 pts) \n",
    "The latency of a neural network measured on a specific processor is not always positively related to its theoretical FLOPS.\n",
    "\n",
    "**True**."
   ]
  },
  {
   "cell_type": "markdown",
   "metadata": {},
   "source": [
    "## Problem 1.5 (2 pts) \n",
    "\n",
    "The overfitting models can perfectly fit the training data. Theoretically, we should increase the diversity and variability in the training data or prune some of the nodes to improve NN’s generalization ability.\n",
    "\n",
    "**True**. These two methods are methods to improve the bias and reduce variance of the model."
   ]
  },
  {
   "cell_type": "markdown",
   "metadata": {},
   "source": [
    "# 2 Adalines (15 pts)"
   ]
  },
  {
   "cell_type": "markdown",
   "metadata": {},
   "source": [
    "## Problem 2.1 (3 pts)\n",
    "\n",
    "| s   | y |\n",
    "| -------- | ------- |\n",
    "| -1  | -1   |\n",
    "| 1   | 1    |\n",
    "| 3   | 1    |\n",
    "| 5   | 1    |\n",
    "\n",
    "\n",
    "This is an OR gate."
   ]
  },
  {
   "cell_type": "markdown",
   "metadata": {},
   "source": [
    "## Problem 2.2 (4 pts)\n",
    "\n",
    "We can set w1 as -2, w2 as -1, and w0 as 2.\n",
    "\n",
    "The s will be:\n",
    "\n",
    "| s  |\n",
    "|--- |\n",
    "| 5  |\n",
    "| 3  |\n",
    "| 1  |\n",
    "| -1 |"
   ]
  },
  {
   "cell_type": "markdown",
   "metadata": {},
   "source": [
    "## Problem 2.3 (4 pts)\n",
    "\n",
    "We can set w1 = w2 = w3 = 1 and w0 = 0.\n",
    "\n",
    "|  s  |\n",
    "|-----|\n",
    "|  -3  |\n",
    "|  -1  |\n",
    "|  -1  |\n",
    "|  1  |\n",
    "|  -1  |\n",
    "|  1  |\n",
    "|  1  |\n",
    "|  3  |"
   ]
  },
  {
   "cell_type": "markdown",
   "metadata": {},
   "source": [
    "## Problem 2.4 (4 pts)\n",
    "\n"
   ]
  },
  {
   "cell_type": "markdown",
   "metadata": {},
   "source": [
    "# 3 Back Propagation (15 pts)"
   ]
  },
  {
   "cell_type": "markdown",
   "metadata": {},
   "source": [
    "## Problem 3.1 (10 pts)"
   ]
  },
  {
   "cell_type": "markdown",
   "metadata": {},
   "source": [
    "## Problem 3.2 (5 pts)"
   ]
  },
  {
   "cell_type": "markdown",
   "metadata": {},
   "source": [
    "# 4 2D Convolution (10 pts)"
   ]
  },
  {
   "cell_type": "markdown",
   "metadata": {},
   "source": [
    "## Problem 4.1 (5 pts)"
   ]
  },
  {
   "cell_type": "markdown",
   "metadata": {},
   "source": [
    "## Problem 4.2 (5 pts)"
   ]
  }
 ],
 "metadata": {
  "language_info": {
   "name": "python"
  }
 },
 "nbformat": 4,
 "nbformat_minor": 2
}
